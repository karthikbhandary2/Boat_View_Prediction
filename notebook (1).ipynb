{
 "cells": [
  {
   "cell_type": "markdown",
   "id": "homeless-quality",
   "metadata": {
    "id": "bA5ajAmk7XH6"
   },
   "source": [
    "# DataCamp Certification Case Study\n",
    "\n",
    "### Project Brief\n",
    "\n",
    "Congratulations, you have just landed your first job as a data scientist at Nearly New Nautical! Nearly New Nautical is a website that allows users to advertise their used boats for sale. To boost traffic to the website, the product manager wants to prevent listing boats that do not receive many views. \n",
    "\n",
    "The product manager wants to know if you can develop a model to predict the number of views a listing will receive based on the boat's features. She would consider using your model if, on average, the predictions were only 50% off of the true number of views a listing would receive.\n",
    "\n",
    "In addition, she has noticed that many users never complete the introductory survey to list their boat. She suspects that it is too long and has asked you whether some features are more predictive of views than others. If so, she may be able to trim the length of the survey and increase the number of people who sign up.\n",
    "\n",
    "You will need to present your findings in two formats:\n",
    "- First, you will need to present your findings to the product manager via a 10 minute oral presentation. The owner has no technical data science background. \n",
    "- You will also need to submit a technical report to your manager, who does have a strong technical data science background.\n",
    "\n",
    "The data you will use for this analysis can be accessed here: `\"data/boat_data.csv\"`"
   ]
  },
  {
   "cell_type": "markdown",
   "id": "caae3b08-c9d4-478c-a3fd-7b2d08ea9e49",
   "metadata": {},
   "source": [
    "## Importing"
   ]
  },
  {
   "cell_type": "code",
   "execution_count": 52,
   "id": "8326d945-2d7e-4dd7-8d4f-d9a567b3a784",
   "metadata": {},
   "outputs": [],
   "source": [
    "import pandas as pd\n",
    "import numpy as np\n",
    "import matplotlib.pyplot as plt\n",
    "import seaborn as sns\n",
    "from sklearn.preprocessing import LabelEncoder\n",
    "from sklearn.model_selection import train_test_split, RandomizedSearchCV\n",
    "from sklearn.ensemble import RandomForestRegressor\n",
    "from sklearn.metrics import mean_absolute_percentage_error, r2_score\n",
    "from sklearn.impute import SimpleImputer"
   ]
  },
  {
   "cell_type": "markdown",
   "id": "b1353493-15cd-4eb5-9f28-8acdcb1a1a88",
   "metadata": {},
   "source": [
    "## Loading the Data"
   ]
  },
  {
   "cell_type": "code",
   "execution_count": 2,
   "id": "46398bcc-d9d1-4e95-8742-95f401185614",
   "metadata": {},
   "outputs": [],
   "source": [
    "df = pd.read_csv(\"data/boat_data.csv\")"
   ]
  },
  {
   "cell_type": "code",
   "execution_count": 3,
   "id": "9fa9b760-38aa-4399-971d-e525fe73ac27",
   "metadata": {},
   "outputs": [
    {
     "data": {
      "application/com.datacamp.data-table.v1+json": {
       "is_truncated": false,
       "table": {
        "data": [
         {
          "Boat Type": "Motor Yacht",
          "Length": 4,
          "Location": "Switzerland Â» Lake Geneva Â» VÃ©senaz",
          "Manufacturer": "Rigiflex power boats",
          "Material": null,
          "Number of views last 7 days": 226,
          "Price": "CHF 3337",
          "Type": "new boat from stock",
          "Width": 1.9,
          "Year Built": 2017,
          "index": 0
         },
         {
          "Boat Type": "Center console boat",
          "Length": 4,
          "Location": "Germany Â» BÃ¶nningstedt",
          "Manufacturer": "Terhi power boats",
          "Material": "Thermoplastic",
          "Number of views last 7 days": 75,
          "Price": "EUR 3490",
          "Type": "new boat from stock",
          "Width": 1.5,
          "Year Built": 2020,
          "index": 1
         },
         {
          "Boat Type": "Sport Boat",
          "Length": 3.69,
          "Location": "Switzerland Â» Lake of Zurich Â» StÃ¤fa ZH",
          "Manufacturer": "Marine power boats",
          "Material": "Aluminium",
          "Number of views last 7 days": 124,
          "Price": "CHF 3770",
          "Type": "new boat from stock",
          "Width": 1.42,
          "Year Built": 0,
          "index": 2
         },
         {
          "Boat Type": "Sport Boat",
          "Length": 3,
          "Location": "Denmark Â» Svendborg",
          "Manufacturer": "Pioner power boats",
          "Material": null,
          "Number of views last 7 days": 64,
          "Price": "DKK 25900",
          "Type": "new boat from stock",
          "Width": 1,
          "Year Built": 2020,
          "index": 3
         },
         {
          "Boat Type": "Fishing Boat",
          "Length": 3.55,
          "Location": "Germany Â» Bayern Â» MÃ¼nchen",
          "Manufacturer": "Linder power boats",
          "Material": "Aluminium",
          "Number of views last 7 days": 58,
          "Price": "EUR 3399",
          "Type": "new boat from stock",
          "Width": 1.46,
          "Year Built": 2019,
          "index": 4
         }
        ],
        "schema": {
         "fields": [
          {
           "name": "index",
           "type": "integer"
          },
          {
           "name": "Price",
           "type": "string"
          },
          {
           "name": "Boat Type",
           "type": "string"
          },
          {
           "name": "Manufacturer",
           "type": "string"
          },
          {
           "name": "Type",
           "type": "string"
          },
          {
           "name": "Year Built",
           "type": "integer"
          },
          {
           "name": "Length",
           "type": "number"
          },
          {
           "name": "Width",
           "type": "number"
          },
          {
           "name": "Material",
           "type": "string"
          },
          {
           "name": "Location",
           "type": "string"
          },
          {
           "name": "Number of views last 7 days",
           "type": "integer"
          }
         ],
         "pandas_version": "0.20.0",
         "primaryKey": [
          "index"
         ]
        }
       },
       "total_rows": 5
      },
      "text/html": [
       "<div>\n",
       "<style scoped>\n",
       "    .dataframe tbody tr th:only-of-type {\n",
       "        vertical-align: middle;\n",
       "    }\n",
       "\n",
       "    .dataframe tbody tr th {\n",
       "        vertical-align: top;\n",
       "    }\n",
       "\n",
       "    .dataframe thead th {\n",
       "        text-align: right;\n",
       "    }\n",
       "</style>\n",
       "<table border=\"1\" class=\"dataframe\">\n",
       "  <thead>\n",
       "    <tr style=\"text-align: right;\">\n",
       "      <th></th>\n",
       "      <th>Price</th>\n",
       "      <th>Boat Type</th>\n",
       "      <th>Manufacturer</th>\n",
       "      <th>Type</th>\n",
       "      <th>Year Built</th>\n",
       "      <th>Length</th>\n",
       "      <th>Width</th>\n",
       "      <th>Material</th>\n",
       "      <th>Location</th>\n",
       "      <th>Number of views last 7 days</th>\n",
       "    </tr>\n",
       "  </thead>\n",
       "  <tbody>\n",
       "    <tr>\n",
       "      <th>0</th>\n",
       "      <td>CHF 3337</td>\n",
       "      <td>Motor Yacht</td>\n",
       "      <td>Rigiflex power boats</td>\n",
       "      <td>new boat from stock</td>\n",
       "      <td>2017</td>\n",
       "      <td>4.00</td>\n",
       "      <td>1.90</td>\n",
       "      <td>NaN</td>\n",
       "      <td>Switzerland Â» Lake Geneva Â» VÃ©senaz</td>\n",
       "      <td>226</td>\n",
       "    </tr>\n",
       "    <tr>\n",
       "      <th>1</th>\n",
       "      <td>EUR 3490</td>\n",
       "      <td>Center console boat</td>\n",
       "      <td>Terhi power boats</td>\n",
       "      <td>new boat from stock</td>\n",
       "      <td>2020</td>\n",
       "      <td>4.00</td>\n",
       "      <td>1.50</td>\n",
       "      <td>Thermoplastic</td>\n",
       "      <td>Germany Â» BÃ¶nningstedt</td>\n",
       "      <td>75</td>\n",
       "    </tr>\n",
       "    <tr>\n",
       "      <th>2</th>\n",
       "      <td>CHF 3770</td>\n",
       "      <td>Sport Boat</td>\n",
       "      <td>Marine power boats</td>\n",
       "      <td>new boat from stock</td>\n",
       "      <td>0</td>\n",
       "      <td>3.69</td>\n",
       "      <td>1.42</td>\n",
       "      <td>Aluminium</td>\n",
       "      <td>Switzerland Â» Lake of Zurich Â» StÃ¤fa ZH</td>\n",
       "      <td>124</td>\n",
       "    </tr>\n",
       "    <tr>\n",
       "      <th>3</th>\n",
       "      <td>DKK 25900</td>\n",
       "      <td>Sport Boat</td>\n",
       "      <td>Pioner power boats</td>\n",
       "      <td>new boat from stock</td>\n",
       "      <td>2020</td>\n",
       "      <td>3.00</td>\n",
       "      <td>1.00</td>\n",
       "      <td>NaN</td>\n",
       "      <td>Denmark Â» Svendborg</td>\n",
       "      <td>64</td>\n",
       "    </tr>\n",
       "    <tr>\n",
       "      <th>4</th>\n",
       "      <td>EUR 3399</td>\n",
       "      <td>Fishing Boat</td>\n",
       "      <td>Linder power boats</td>\n",
       "      <td>new boat from stock</td>\n",
       "      <td>2019</td>\n",
       "      <td>3.55</td>\n",
       "      <td>1.46</td>\n",
       "      <td>Aluminium</td>\n",
       "      <td>Germany Â» Bayern Â» MÃ¼nchen</td>\n",
       "      <td>58</td>\n",
       "    </tr>\n",
       "  </tbody>\n",
       "</table>\n",
       "</div>"
      ],
      "text/plain": [
       "       Price            Boat Type          Manufacturer                 Type  \\\n",
       "0   CHF 3337          Motor Yacht  Rigiflex power boats  new boat from stock   \n",
       "1   EUR 3490  Center console boat     Terhi power boats  new boat from stock   \n",
       "2   CHF 3770           Sport Boat    Marine power boats  new boat from stock   \n",
       "3  DKK 25900           Sport Boat    Pioner power boats  new boat from stock   \n",
       "4   EUR 3399         Fishing Boat    Linder power boats  new boat from stock   \n",
       "\n",
       "   Year Built  Length  Width       Material  \\\n",
       "0        2017    4.00   1.90            NaN   \n",
       "1        2020    4.00   1.50  Thermoplastic   \n",
       "2           0    3.69   1.42      Aluminium   \n",
       "3        2020    3.00   1.00            NaN   \n",
       "4        2019    3.55   1.46      Aluminium   \n",
       "\n",
       "                                     Location  Number of views last 7 days  \n",
       "0      Switzerland Â» Lake Geneva Â» VÃ©senaz                          226  \n",
       "1                    Germany Â» BÃ¶nningstedt                           75  \n",
       "2  Switzerland Â» Lake of Zurich Â» StÃ¤fa ZH                          124  \n",
       "3                        Denmark Â» Svendborg                           64  \n",
       "4               Germany Â» Bayern Â» MÃ¼nchen                           58  "
      ]
     },
     "execution_count": 3,
     "metadata": {},
     "output_type": "execute_result"
    }
   ],
   "source": [
    "df.head()"
   ]
  },
  {
   "cell_type": "markdown",
   "id": "11cdc238-8447-4ef2-b2f5-0127b0ff7749",
   "metadata": {},
   "source": [
    "## Understanding the data"
   ]
  },
  {
   "cell_type": "code",
   "execution_count": 4,
   "id": "f4eb3e4f-4ac6-4612-affe-b3dd5d7ff5ba",
   "metadata": {},
   "outputs": [
    {
     "data": {
      "text/plain": [
       "(9888, 10)"
      ]
     },
     "execution_count": 4,
     "metadata": {},
     "output_type": "execute_result"
    }
   ],
   "source": [
    "#Let's take a look at the shape of the df\n",
    "df.shape"
   ]
  },
  {
   "cell_type": "code",
   "execution_count": 5,
   "id": "f5eaf470-87d9-4653-949e-456a114223b9",
   "metadata": {},
   "outputs": [
    {
     "data": {
      "image/png": "[encoded data removed]",
      "text/plain": [
       "<Figure size 720x720 with 20 Axes>"
      ]
     },
     "metadata": {},
     "output_type": "display_data"
    }
   ],
   "source": [
    "sns.set()\n",
    "g = sns.pairplot(df)\n",
    "g.map_upper(sns.kdeplot, n_levels=6, color='orange')\n",
    "plt.show()"
   ]
  },
  {
   "cell_type": "markdown",
   "id": "1d9beafa-edfb-407e-8186-819de8939c77",
   "metadata": {},
   "source": [
    "If we take a look at the above pairplot it seems like the shorter the length of the boat is the more views it got(if it's way small it got less views), which is quite intuitive since smaller boats tend to be cheaper. Same story with the width as well(As they are obviously possitively correlated.)"
   ]
  },
  {
   "cell_type": "code",
   "execution_count": 6,
   "id": "60cd271a-1402-4dc9-bc9a-4e02c6f08934",
   "metadata": {},
   "outputs": [
    {
     "data": {
      "image/png": "[encoded data removed]",
      "text/plain": [
       "<Figure size 432x288 with 2 Axes>"
      ]
     },
     "metadata": {},
     "output_type": "display_data"
    }
   ],
   "source": [
    "corr = df.corr()\n",
    "sns.heatmap(corr, cmap=\"YlGnBu\", annot=True)\n",
    "plt.show()"
   ]
  },
  {
   "cell_type": "code",
   "execution_count": 7,
   "id": "5482dc27-084f-4088-9d16-191a03f6c29a",
   "metadata": {},
   "outputs": [],
   "source": [
    "df.rename(columns={'Number of views last 7 days' : 'views'}, inplace=True) #renaming the column name as it is too long"
   ]
  },
  {
   "cell_type": "code",
   "execution_count": 54,
   "id": "361eb701-590f-44ad-bfcf-252906b7633f",
   "metadata": {},
   "outputs": [
    {
     "data": {
      "image/png": "[encoded data removed]",
      "text/plain": [
       "<Figure size 864x432 with 1 Axes>"
      ]
     },
     "metadata": {},
     "output_type": "display_data"
    }
   ],
   "source": [
    "#target variable\n",
    "fig = plt.figure(figsize=(12,6))\n",
    "df['views'].plot()\n",
    "plt.xlabel(\"Views\")\n",
    "plt.ylabel(\"View Counts\")\n",
    "plt.title(\"Distribution of views\", size=15)\n",
    "plt.show()"
   ]
  },
  {
   "cell_type": "markdown",
   "id": "c7896d17-a4f0-4a4c-bfd7-d0b1b68d1482",
   "metadata": {},
   "source": [
    "## Feature Engineering"
   ]
  },
  {
   "cell_type": "code",
   "execution_count": 9,
   "id": "79a52d02-e0b7-4146-a637-e03fc5431a6a",
   "metadata": {},
   "outputs": [],
   "source": [
    "#The price column should be a int type so let's convert it into int\n",
    "df['Currency'] = df.loc[:,'Price'].str.slice(0,3)\n",
    "df['Price'] = df['Price'].str.replace(r'[A-Z\\D\\W]', '').astype('int')"
   ]
  },
  {
   "cell_type": "code",
   "execution_count": 10,
   "id": "d2f94bf0-539b-46e0-8e59-ab983e2ac53c",
   "metadata": {},
   "outputs": [
    {
     "data": {
      "text/plain": [
       "array(['CHF', 'EUR', 'DKK', 'Â£ '], dtype=object)"
      ]
     },
     "execution_count": 10,
     "metadata": {},
     "output_type": "execute_result"
    }
   ],
   "source": [
    "df.Currency.unique()"
   ]
  },
  {
   "cell_type": "code",
   "execution_count": 11,
   "id": "137f35e1-8c0e-41d9-a075-78767232b175",
   "metadata": {},
   "outputs": [
    {
     "data": {
      "application/com.datacamp.data-table.v1+json": {
       "is_truncated": false,
       "table": {
        "data": [
         {
          "Boat Type": "Motor Yacht",
          "Currency": "CHF",
          "Length": 4,
          "Location": "Switzerland Â» Lake Geneva Â» VÃ©senaz",
          "Manufacturer": "Rigiflex power boats",
          "Material": null,
          "Price": 3337,
          "Type": "new boat from stock",
          "Width": 1.9,
          "Year Built": 2017,
          "index": 0,
          "views": 226
         },
         {
          "Boat Type": "Center console boat",
          "Currency": "EUR",
          "Length": 4,
          "Location": "Germany Â» BÃ¶nningstedt",
          "Manufacturer": "Terhi power boats",
          "Material": "Thermoplastic",
          "Price": 3490,
          "Type": "new boat from stock",
          "Width": 1.5,
          "Year Built": 2020,
          "index": 1,
          "views": 75
         },
         {
          "Boat Type": "Sport Boat",
          "Currency": "CHF",
          "Length": 3.69,
          "Location": "Switzerland Â» Lake of Zurich Â» StÃ¤fa ZH",
          "Manufacturer": "Marine power boats",
          "Material": "Aluminium",
          "Price": 3770,
          "Type": "new boat from stock",
          "Width": 1.42,
          "Year Built": 0,
          "index": 2,
          "views": 124
         },
         {
          "Boat Type": "Sport Boat",
          "Currency": "DKK",
          "Length": 3,
          "Location": "Denmark Â» Svendborg",
          "Manufacturer": "Pioner power boats",
          "Material": null,
          "Price": 25900,
          "Type": "new boat from stock",
          "Width": 1,
          "Year Built": 2020,
          "index": 3,
          "views": 64
         },
         {
          "Boat Type": "Fishing Boat",
          "Currency": "EUR",
          "Length": 3.55,
          "Location": "Germany Â» Bayern Â» MÃ¼nchen",
          "Manufacturer": "Linder power boats",
          "Material": "Aluminium",
          "Price": 3399,
          "Type": "new boat from stock",
          "Width": 1.46,
          "Year Built": 2019,
          "index": 4,
          "views": 58
         },
         {
          "Boat Type": "Sport Boat",
          "Currency": "CHF",
          "Length": 4.03,
          "Location": "Switzerland Â» Lake Constance Â» Uttwil",
          "Manufacturer": "Linder power boats",
          "Material": "Aluminium",
          "Price": 3650,
          "Type": "new boat from stock",
          "Width": 1.56,
          "Year Built": 0,
          "index": 5,
          "views": 132
         },
         {
          "Boat Type": "Catamaran",
          "Currency": "CHF",
          "Length": 6.2,
          "Location": "Switzerland Â» Neuenburgersee Â» Yvonand ",
          "Manufacturer": null,
          "Material": "Aluminium",
          "Price": 3600,
          "Type": "Used boat,Unleaded",
          "Width": 2.38,
          "Year Built": 1999,
          "index": 6,
          "views": 474
         },
         {
          "Boat Type": "Sport Boat",
          "Currency": "DKK",
          "Length": 3,
          "Location": "Denmark Â» Svendborg",
          "Manufacturer": null,
          "Material": null,
          "Price": 24800,
          "Type": "Used boat",
          "Width": null,
          "Year Built": 0,
          "index": 7,
          "views": 134
         },
         {
          "Boat Type": "Fishing Boat",
          "Currency": "EUR",
          "Length": 3.64,
          "Location": "Germany Â» Bayern Â» Boote+service Oberbayern",
          "Manufacturer": "Crescent power boats",
          "Material": null,
          "Price": 3333,
          "Type": "new boat from stock",
          "Width": 1.37,
          "Year Built": 2019,
          "index": 8,
          "views": 45
         },
         {
          "Boat Type": "Pontoon Boat",
          "Currency": "EUR",
          "Length": 4.35,
          "Location": "Italy Â» Dormelletto ",
          "Manufacturer": "Whaly power boats",
          "Material": null,
          "Price": 3300,
          "Type": "new boat from stock",
          "Width": 1.73,
          "Year Built": 2018,
          "index": 9,
          "views": 180
         },
         {
          "Boat Type": "Fishing Boat",
          "Currency": "CHF",
          "Length": 4.35,
          "Location": "Switzerland Â» Seengen",
          "Manufacturer": "Terhi power boats",
          "Material": "GRP",
          "Price": 3500,
          "Type": "Used boat,Electric",
          "Width": 1.75,
          "Year Built": 1987,
          "index": 10,
          "views": 239
         },
         {
          "Boat Type": "Fishing Boat",
          "Currency": "CHF",
          "Length": 4.13,
          "Location": "Switzerland Â» Lake of Zurich Â» StÃ¤fa am ZÃ¼richsee",
          "Manufacturer": "Marine power boats",
          "Material": "Aluminium",
          "Price": 3480,
          "Type": "new boat from stock",
          "Width": 1.41,
          "Year Built": 0,
          "index": 11,
          "views": 145
         },
         {
          "Boat Type": "Sport Boat",
          "Currency": "EUR",
          "Length": 4.7,
          "Location": "Italy Â» Lake Garda Â» Moniga del Garda (BS)",
          "Manufacturer": "GS Nautica power boats",
          "Material": "GRP",
          "Price": 3500,
          "Type": "Used boat",
          "Width": 2,
          "Year Built": 2004,
          "index": 12,
          "views": 69
         },
         {
          "Boat Type": "Runabout",
          "Currency": "CHF",
          "Length": 4.4,
          "Location": "Switzerland Â» Zugersee Â» Neuheim",
          "Manufacturer": "Kimple power boats",
          "Material": "Aluminium",
          "Price": 4600,
          "Type": "new boat from stock",
          "Width": 1.65,
          "Year Built": 2020,
          "index": 13,
          "views": 113
         },
         {
          "Boat Type": "Fishing Boat",
          "Currency": "CHF",
          "Length": 3.72,
          "Location": "Switzerland Â» VierwaldstÃ¤ttersee Â» 6004",
          "Manufacturer": "Italmarine power boats",
          "Material": "Aluminium",
          "Price": 4500,
          "Type": "Used boat,Unleaded",
          "Width": 1.33,
          "Year Built": 1997,
          "index": 14,
          "views": 413
         },
         {
          "Boat Type": "Deck Boat",
          "Currency": "CHF",
          "Length": 3.88,
          "Location": "Switzerland Â» Safenwil",
          "Manufacturer": "Buster power boats",
          "Material": "Aluminium",
          "Price": 4400,
          "Type": "new boat from stock,Unleaded",
          "Width": 1.49,
          "Year Built": 0,
          "index": 15,
          "views": 263
         },
         {
          "Boat Type": "Sport Boat",
          "Currency": "CHF",
          "Length": 4.31,
          "Location": "Switzerland Â» Lake Constance Â» Uttwil",
          "Manufacturer": "Linder power boats",
          "Material": "Aluminium",
          "Price": 4380,
          "Type": "new boat from stock",
          "Width": 1.64,
          "Year Built": 0,
          "index": 16,
          "views": 462
         },
         {
          "Boat Type": "Sport Boat",
          "Currency": "DKK",
          "Length": 4,
          "Location": "Denmark Â» Svendborg",
          "Manufacturer": null,
          "Material": null,
          "Price": 30000,
          "Type": "Used boat",
          "Width": 1,
          "Year Built": 1985,
          "index": 17,
          "views": 124
         },
         {
          "Boat Type": "Pilothouse",
          "Currency": "EUR",
          "Length": 8,
          "Location": "France Â» MARTGUES, MARTIGUES",
          "Manufacturer": "BÃ©nÃ©teau power boats",
          "Material": "PVC",
          "Price": 4000,
          "Type": "Used boat,Diesel",
          "Width": 2.84,
          "Year Built": 1981,
          "index": 18,
          "views": 265
         },
         {
          "Boat Type": "Cabin Boat",
          "Currency": "EUR",
          "Length": 6.37,
          "Location": "Germany Â» Bayern Â» Forchheim/Ofr.",
          "Manufacturer": null,
          "Material": "GRP",
          "Price": 4000,
          "Type": "Used boat,Unleaded",
          "Width": 2.31,
          "Year Built": 2011,
          "index": 19,
          "views": 330
         }
        ],
        "schema": {
         "fields": [
          {
           "name": "index",
           "type": "integer"
          },
          {
           "name": "Price",
           "type": "integer"
          },
          {
           "name": "Boat Type",
           "type": "string"
          },
          {
           "name": "Manufacturer",
           "type": "string"
          },
          {
           "name": "Type",
           "type": "string"
          },
          {
           "name": "Year Built",
           "type": "integer"
          },
          {
           "name": "Length",
           "type": "number"
          },
          {
           "name": "Width",
           "type": "number"
          },
          {
           "name": "Material",
           "type": "string"
          },
          {
           "name": "Location",
           "type": "string"
          },
          {
           "name": "views",
           "type": "integer"
          },
          {
           "name": "Currency",
           "type": "string"
          }
         ],
         "pandas_version": "0.20.0",
         "primaryKey": [
          "index"
         ]
        }
       },
       "total_rows": 20
      },
      "text/html": [
       "<div>\n",
       "<style scoped>\n",
       "    .dataframe tbody tr th:only-of-type {\n",
       "        vertical-align: middle;\n",
       "    }\n",
       "\n",
       "    .dataframe tbody tr th {\n",
       "        vertical-align: top;\n",
       "    }\n",
       "\n",
       "    .dataframe thead th {\n",
       "        text-align: right;\n",
       "    }\n",
       "</style>\n",
       "<table border=\"1\" class=\"dataframe\">\n",
       "  <thead>\n",
       "    <tr style=\"text-align: right;\">\n",
       "      <th></th>\n",
       "      <th>Price</th>\n",
       "      <th>Boat Type</th>\n",
       "      <th>Manufacturer</th>\n",
       "      <th>Type</th>\n",
       "      <th>Year Built</th>\n",
       "      <th>Length</th>\n",
       "      <th>Width</th>\n",
       "      <th>Material</th>\n",
       "      <th>Location</th>\n",
       "      <th>views</th>\n",
       "      <th>Currency</th>\n",
       "    </tr>\n",
       "  </thead>\n",
       "  <tbody>\n",
       "    <tr>\n",
       "      <th>0</th>\n",
       "      <td>3337</td>\n",
       "      <td>Motor Yacht</td>\n",
       "      <td>Rigiflex power boats</td>\n",
       "      <td>new boat from stock</td>\n",
       "      <td>2017</td>\n",
       "      <td>4.00</td>\n",
       "      <td>1.90</td>\n",
       "      <td>NaN</td>\n",
       "      <td>Switzerland Â» Lake Geneva Â» VÃ©senaz</td>\n",
       "      <td>226</td>\n",
       "      <td>CHF</td>\n",
       "    </tr>\n",
       "    <tr>\n",
       "      <th>1</th>\n",
       "      <td>3490</td>\n",
       "      <td>Center console boat</td>\n",
       "      <td>Terhi power boats</td>\n",
       "      <td>new boat from stock</td>\n",
       "      <td>2020</td>\n",
       "      <td>4.00</td>\n",
       "      <td>1.50</td>\n",
       "      <td>Thermoplastic</td>\n",
       "      <td>Germany Â» BÃ¶nningstedt</td>\n",
       "      <td>75</td>\n",
       "      <td>EUR</td>\n",
       "    </tr>\n",
       "    <tr>\n",
       "      <th>2</th>\n",
       "      <td>3770</td>\n",
       "      <td>Sport Boat</td>\n",
       "      <td>Marine power boats</td>\n",
       "      <td>new boat from stock</td>\n",
       "      <td>0</td>\n",
       "      <td>3.69</td>\n",
       "      <td>1.42</td>\n",
       "      <td>Aluminium</td>\n",
       "      <td>Switzerland Â» Lake of Zurich Â» StÃ¤fa ZH</td>\n",
       "      <td>124</td>\n",
       "      <td>CHF</td>\n",
       "    </tr>\n",
       "    <tr>\n",
       "      <th>3</th>\n",
       "      <td>25900</td>\n",
       "      <td>Sport Boat</td>\n",
       "      <td>Pioner power boats</td>\n",
       "      <td>new boat from stock</td>\n",
       "      <td>2020</td>\n",
       "      <td>3.00</td>\n",
       "      <td>1.00</td>\n",
       "      <td>NaN</td>\n",
       "      <td>Denmark Â» Svendborg</td>\n",
       "      <td>64</td>\n",
       "      <td>DKK</td>\n",
       "    </tr>\n",
       "    <tr>\n",
       "      <th>4</th>\n",
       "      <td>3399</td>\n",
       "      <td>Fishing Boat</td>\n",
       "      <td>Linder power boats</td>\n",
       "      <td>new boat from stock</td>\n",
       "      <td>2019</td>\n",
       "      <td>3.55</td>\n",
       "      <td>1.46</td>\n",
       "      <td>Aluminium</td>\n",
       "      <td>Germany Â» Bayern Â» MÃ¼nchen</td>\n",
       "      <td>58</td>\n",
       "      <td>EUR</td>\n",
       "    </tr>\n",
       "    <tr>\n",
       "      <th>5</th>\n",
       "      <td>3650</td>\n",
       "      <td>Sport Boat</td>\n",
       "      <td>Linder power boats</td>\n",
       "      <td>new boat from stock</td>\n",
       "      <td>0</td>\n",
       "      <td>4.03</td>\n",
       "      <td>1.56</td>\n",
       "      <td>Aluminium</td>\n",
       "      <td>Switzerland Â» Lake Constance Â» Uttwil</td>\n",
       "      <td>132</td>\n",
       "      <td>CHF</td>\n",
       "    </tr>\n",
       "    <tr>\n",
       "      <th>6</th>\n",
       "      <td>3600</td>\n",
       "      <td>Catamaran</td>\n",
       "      <td>NaN</td>\n",
       "      <td>Used boat,Unleaded</td>\n",
       "      <td>1999</td>\n",
       "      <td>6.20</td>\n",
       "      <td>2.38</td>\n",
       "      <td>Aluminium</td>\n",
       "      <td>Switzerland Â» Neuenburgersee Â» Yvonand</td>\n",
       "      <td>474</td>\n",
       "      <td>CHF</td>\n",
       "    </tr>\n",
       "    <tr>\n",
       "      <th>7</th>\n",
       "      <td>24800</td>\n",
       "      <td>Sport Boat</td>\n",
       "      <td>NaN</td>\n",
       "      <td>Used boat</td>\n",
       "      <td>0</td>\n",
       "      <td>3.00</td>\n",
       "      <td>NaN</td>\n",
       "      <td>NaN</td>\n",
       "      <td>Denmark Â» Svendborg</td>\n",
       "      <td>134</td>\n",
       "      <td>DKK</td>\n",
       "    </tr>\n",
       "    <tr>\n",
       "      <th>8</th>\n",
       "      <td>3333</td>\n",
       "      <td>Fishing Boat</td>\n",
       "      <td>Crescent power boats</td>\n",
       "      <td>new boat from stock</td>\n",
       "      <td>2019</td>\n",
       "      <td>3.64</td>\n",
       "      <td>1.37</td>\n",
       "      <td>NaN</td>\n",
       "      <td>Germany Â» Bayern Â» Boote+service Oberbayern</td>\n",
       "      <td>45</td>\n",
       "      <td>EUR</td>\n",
       "    </tr>\n",
       "    <tr>\n",
       "      <th>9</th>\n",
       "      <td>3300</td>\n",
       "      <td>Pontoon Boat</td>\n",
       "      <td>Whaly power boats</td>\n",
       "      <td>new boat from stock</td>\n",
       "      <td>2018</td>\n",
       "      <td>4.35</td>\n",
       "      <td>1.73</td>\n",
       "      <td>NaN</td>\n",
       "      <td>Italy Â» Dormelletto</td>\n",
       "      <td>180</td>\n",
       "      <td>EUR</td>\n",
       "    </tr>\n",
       "    <tr>\n",
       "      <th>10</th>\n",
       "      <td>3500</td>\n",
       "      <td>Fishing Boat</td>\n",
       "      <td>Terhi power boats</td>\n",
       "      <td>Used boat,Electric</td>\n",
       "      <td>1987</td>\n",
       "      <td>4.35</td>\n",
       "      <td>1.75</td>\n",
       "      <td>GRP</td>\n",
       "      <td>Switzerland Â» Seengen</td>\n",
       "      <td>239</td>\n",
       "      <td>CHF</td>\n",
       "    </tr>\n",
       "    <tr>\n",
       "      <th>11</th>\n",
       "      <td>3480</td>\n",
       "      <td>Fishing Boat</td>\n",
       "      <td>Marine power boats</td>\n",
       "      <td>new boat from stock</td>\n",
       "      <td>0</td>\n",
       "      <td>4.13</td>\n",
       "      <td>1.41</td>\n",
       "      <td>Aluminium</td>\n",
       "      <td>Switzerland Â» Lake of Zurich Â» StÃ¤fa am ZÃ¼...</td>\n",
       "      <td>145</td>\n",
       "      <td>CHF</td>\n",
       "    </tr>\n",
       "    <tr>\n",
       "      <th>12</th>\n",
       "      <td>3500</td>\n",
       "      <td>Sport Boat</td>\n",
       "      <td>GS Nautica power boats</td>\n",
       "      <td>Used boat</td>\n",
       "      <td>2004</td>\n",
       "      <td>4.70</td>\n",
       "      <td>2.00</td>\n",
       "      <td>GRP</td>\n",
       "      <td>Italy Â» Lake Garda Â» Moniga del Garda (BS)</td>\n",
       "      <td>69</td>\n",
       "      <td>EUR</td>\n",
       "    </tr>\n",
       "    <tr>\n",
       "      <th>13</th>\n",
       "      <td>4600</td>\n",
       "      <td>Runabout</td>\n",
       "      <td>Kimple power boats</td>\n",
       "      <td>new boat from stock</td>\n",
       "      <td>2020</td>\n",
       "      <td>4.40</td>\n",
       "      <td>1.65</td>\n",
       "      <td>Aluminium</td>\n",
       "      <td>Switzerland Â» Zugersee Â» Neuheim</td>\n",
       "      <td>113</td>\n",
       "      <td>CHF</td>\n",
       "    </tr>\n",
       "    <tr>\n",
       "      <th>14</th>\n",
       "      <td>4500</td>\n",
       "      <td>Fishing Boat</td>\n",
       "      <td>Italmarine power boats</td>\n",
       "      <td>Used boat,Unleaded</td>\n",
       "      <td>1997</td>\n",
       "      <td>3.72</td>\n",
       "      <td>1.33</td>\n",
       "      <td>Aluminium</td>\n",
       "      <td>Switzerland Â» VierwaldstÃ¤ttersee Â» 6004</td>\n",
       "      <td>413</td>\n",
       "      <td>CHF</td>\n",
       "    </tr>\n",
       "    <tr>\n",
       "      <th>15</th>\n",
       "      <td>4400</td>\n",
       "      <td>Deck Boat</td>\n",
       "      <td>Buster power boats</td>\n",
       "      <td>new boat from stock,Unleaded</td>\n",
       "      <td>0</td>\n",
       "      <td>3.88</td>\n",
       "      <td>1.49</td>\n",
       "      <td>Aluminium</td>\n",
       "      <td>Switzerland Â» Safenwil</td>\n",
       "      <td>263</td>\n",
       "      <td>CHF</td>\n",
       "    </tr>\n",
       "    <tr>\n",
       "      <th>16</th>\n",
       "      <td>4380</td>\n",
       "      <td>Sport Boat</td>\n",
       "      <td>Linder power boats</td>\n",
       "      <td>new boat from stock</td>\n",
       "      <td>0</td>\n",
       "      <td>4.31</td>\n",
       "      <td>1.64</td>\n",
       "      <td>Aluminium</td>\n",
       "      <td>Switzerland Â» Lake Constance Â» Uttwil</td>\n",
       "      <td>462</td>\n",
       "      <td>CHF</td>\n",
       "    </tr>\n",
       "    <tr>\n",
       "      <th>17</th>\n",
       "      <td>30000</td>\n",
       "      <td>Sport Boat</td>\n",
       "      <td>NaN</td>\n",
       "      <td>Used boat</td>\n",
       "      <td>1985</td>\n",
       "      <td>4.00</td>\n",
       "      <td>1.00</td>\n",
       "      <td>NaN</td>\n",
       "      <td>Denmark Â» Svendborg</td>\n",
       "      <td>124</td>\n",
       "      <td>DKK</td>\n",
       "    </tr>\n",
       "    <tr>\n",
       "      <th>18</th>\n",
       "      <td>4000</td>\n",
       "      <td>Pilothouse</td>\n",
       "      <td>BÃ©nÃ©teau power boats</td>\n",
       "      <td>Used boat,Diesel</td>\n",
       "      <td>1981</td>\n",
       "      <td>8.00</td>\n",
       "      <td>2.84</td>\n",
       "      <td>PVC</td>\n",
       "      <td>France Â» MARTGUES, MARTIGUES</td>\n",
       "      <td>265</td>\n",
       "      <td>EUR</td>\n",
       "    </tr>\n",
       "    <tr>\n",
       "      <th>19</th>\n",
       "      <td>4000</td>\n",
       "      <td>Cabin Boat</td>\n",
       "      <td>NaN</td>\n",
       "      <td>Used boat,Unleaded</td>\n",
       "      <td>2011</td>\n",
       "      <td>6.37</td>\n",
       "      <td>2.31</td>\n",
       "      <td>GRP</td>\n",
       "      <td>Germany Â» Bayern Â» Forchheim/Ofr.</td>\n",
       "      <td>330</td>\n",
       "      <td>EUR</td>\n",
       "    </tr>\n",
       "  </tbody>\n",
       "</table>\n",
       "</div>"
      ],
      "text/plain": [
       "    Price            Boat Type            Manufacturer  \\\n",
       "0    3337          Motor Yacht    Rigiflex power boats   \n",
       "1    3490  Center console boat       Terhi power boats   \n",
       "2    3770           Sport Boat      Marine power boats   \n",
       "3   25900           Sport Boat      Pioner power boats   \n",
       "4    3399         Fishing Boat      Linder power boats   \n",
       "5    3650           Sport Boat      Linder power boats   \n",
       "6    3600            Catamaran                     NaN   \n",
       "7   24800           Sport Boat                     NaN   \n",
       "8    3333         Fishing Boat    Crescent power boats   \n",
       "9    3300         Pontoon Boat       Whaly power boats   \n",
       "10   3500         Fishing Boat       Terhi power boats   \n",
       "11   3480         Fishing Boat      Marine power boats   \n",
       "12   3500           Sport Boat  GS Nautica power boats   \n",
       "13   4600             Runabout      Kimple power boats   \n",
       "14   4500         Fishing Boat  Italmarine power boats   \n",
       "15   4400            Deck Boat      Buster power boats   \n",
       "16   4380           Sport Boat      Linder power boats   \n",
       "17  30000           Sport Boat                     NaN   \n",
       "18   4000           Pilothouse  BÃ©nÃ©teau power boats   \n",
       "19   4000           Cabin Boat                     NaN   \n",
       "\n",
       "                            Type  Year Built  Length  Width       Material  \\\n",
       "0            new boat from stock        2017    4.00   1.90            NaN   \n",
       "1            new boat from stock        2020    4.00   1.50  Thermoplastic   \n",
       "2            new boat from stock           0    3.69   1.42      Aluminium   \n",
       "3            new boat from stock        2020    3.00   1.00            NaN   \n",
       "4            new boat from stock        2019    3.55   1.46      Aluminium   \n",
       "5            new boat from stock           0    4.03   1.56      Aluminium   \n",
       "6             Used boat,Unleaded        1999    6.20   2.38      Aluminium   \n",
       "7                      Used boat           0    3.00    NaN            NaN   \n",
       "8            new boat from stock        2019    3.64   1.37            NaN   \n",
       "9            new boat from stock        2018    4.35   1.73            NaN   \n",
       "10            Used boat,Electric        1987    4.35   1.75            GRP   \n",
       "11           new boat from stock           0    4.13   1.41      Aluminium   \n",
       "12                     Used boat        2004    4.70   2.00            GRP   \n",
       "13           new boat from stock        2020    4.40   1.65      Aluminium   \n",
       "14            Used boat,Unleaded        1997    3.72   1.33      Aluminium   \n",
       "15  new boat from stock,Unleaded           0    3.88   1.49      Aluminium   \n",
       "16           new boat from stock           0    4.31   1.64      Aluminium   \n",
       "17                     Used boat        1985    4.00   1.00            NaN   \n",
       "18              Used boat,Diesel        1981    8.00   2.84            PVC   \n",
       "19            Used boat,Unleaded        2011    6.37   2.31            GRP   \n",
       "\n",
       "                                             Location  views Currency  \n",
       "0              Switzerland Â» Lake Geneva Â» VÃ©senaz    226      CHF  \n",
       "1                            Germany Â» BÃ¶nningstedt     75      EUR  \n",
       "2          Switzerland Â» Lake of Zurich Â» StÃ¤fa ZH    124      CHF  \n",
       "3                                Denmark Â» Svendborg     64      DKK  \n",
       "4                       Germany Â» Bayern Â» MÃ¼nchen     58      EUR  \n",
       "5             Switzerland Â» Lake Constance Â» Uttwil    132      CHF  \n",
       "6           Switzerland Â» Neuenburgersee Â» Yvonand     474      CHF  \n",
       "7                                Denmark Â» Svendborg    134      DKK  \n",
       "8       Germany Â» Bayern Â» Boote+service Oberbayern     45      EUR  \n",
       "9                               Italy Â» Dormelletto     180      EUR  \n",
       "10                             Switzerland Â» Seengen    239      CHF  \n",
       "11  Switzerland Â» Lake of Zurich Â» StÃ¤fa am ZÃ¼...    145      CHF  \n",
       "12       Italy Â» Lake Garda Â» Moniga del Garda (BS)     69      EUR  \n",
       "13                 Switzerland Â» Zugersee Â» Neuheim    113      CHF  \n",
       "14         Switzerland Â» VierwaldstÃ¤ttersee Â» 6004    413      CHF  \n",
       "15                            Switzerland Â» Safenwil    263      CHF  \n",
       "16            Switzerland Â» Lake Constance Â» Uttwil    462      CHF  \n",
       "17                               Denmark Â» Svendborg    124      DKK  \n",
       "18                      France Â» MARTGUES, MARTIGUES    265      EUR  \n",
       "19                Germany Â» Bayern Â» Forchheim/Ofr.    330      EUR  "
      ]
     },
     "execution_count": 11,
     "metadata": {},
     "output_type": "execute_result"
    }
   ],
   "source": [
    "df.head(20)"
   ]
  },
  {
   "cell_type": "code",
   "execution_count": 12,
   "id": "0f03d909-ffbd-4400-837e-65dd6b737795",
   "metadata": {},
   "outputs": [
    {
     "name": "stdout",
     "output_type": "stream",
     "text": [
      "<class 'pandas.core.frame.DataFrame'>\n",
      "RangeIndex: 9888 entries, 0 to 9887\n",
      "Data columns (total 11 columns):\n",
      " #   Column        Non-Null Count  Dtype  \n",
      "---  ------        --------------  -----  \n",
      " 0   Price         9888 non-null   int64  \n",
      " 1   Boat Type     9888 non-null   object \n",
      " 2   Manufacturer  8550 non-null   object \n",
      " 3   Type          9882 non-null   object \n",
      " 4   Year Built    9888 non-null   int64  \n",
      " 5   Length        9879 non-null   float64\n",
      " 6   Width         9832 non-null   float64\n",
      " 7   Material      8139 non-null   object \n",
      " 8   Location      9852 non-null   object \n",
      " 9   views         9888 non-null   int64  \n",
      " 10  Currency      9888 non-null   object \n",
      "dtypes: float64(2), int64(3), object(6)\n",
      "memory usage: 849.9+ KB\n"
     ]
    }
   ],
   "source": [
    "df.info()"
   ]
  },
  {
   "cell_type": "markdown",
   "id": "6073269d-e5e2-44a3-a583-97d35288e897",
   "metadata": {},
   "source": [
    "Before we encode the categorical columns let's remove the NaN values"
   ]
  },
  {
   "cell_type": "code",
   "execution_count": 13,
   "id": "0ca09df0-c974-43a7-8fb5-362bf29100d2",
   "metadata": {},
   "outputs": [
    {
     "data": {
      "image/png": "[encoded data removed]",
      "text/plain": [
       "<Figure size 864x432 with 2 Axes>"
      ]
     },
     "metadata": {},
     "output_type": "display_data"
    }
   ],
   "source": [
    "#First let's take a look at the length and the width columns\n",
    "fig = plt.figure(figsize=(12,6))\n",
    "ax1 = fig.add_subplot(223)\n",
    "sns.boxplot(df.Length)\n",
    "ax1.set_title(\"Length Distribution\")\n",
    "ax2 = fig.add_subplot(224)\n",
    "sns.distplot(df.Length)\n",
    "ax2.set_title(\"Length Distribution\")\n",
    "plt.savefig('heightDistributions.png')"
   ]
  },
  {
   "cell_type": "code",
   "execution_count": 14,
   "id": "fdbf71a8-7ea7-4197-847b-f9a9818440dc",
   "metadata": {},
   "outputs": [
    {
     "data": {
      "image/png": "[encoded data removed]",
      "text/plain": [
       "<Figure size 864x432 with 2 Axes>"
      ]
     },
     "metadata": {},
     "output_type": "display_data"
    }
   ],
   "source": [
    "fig = plt.figure(figsize=(12,6))\n",
    "ax1 = fig.add_subplot(223)\n",
    "sns.boxplot(df.Width)\n",
    "ax1.set_title(\"Width Distribution\")\n",
    "ax2 = fig.add_subplot(224)\n",
    "sns.distplot(df.Width)\n",
    "ax2.set_title(\"Width Distribution\")\n",
    "plt.savefig('weightDistributions.png')"
   ]
  },
  {
   "cell_type": "code",
   "execution_count": 15,
   "id": "d0a9ded3-f853-4809-855a-d3ae315e774b",
   "metadata": {},
   "outputs": [],
   "source": [
    "df['Length'].fillna(int(df['Length'].median()), inplace=True)"
   ]
  },
  {
   "cell_type": "code",
   "execution_count": 16,
   "id": "c2d8af5f-8e68-45a6-bbc4-2c0ad7c552b1",
   "metadata": {},
   "outputs": [],
   "source": [
    "df['Width'].fillna(int(df['Width'].median()), inplace=True)"
   ]
  },
  {
   "cell_type": "code",
   "execution_count": 17,
   "id": "e298aa12-c78e-41aa-8d1d-86bebfdd9a54",
   "metadata": {},
   "outputs": [],
   "source": [
    "df.drop(['Location'], axis=1, inplace=True)"
   ]
  },
  {
   "cell_type": "code",
   "execution_count": 18,
   "id": "4ecd27a3-2378-49cc-af1b-51c6def836da",
   "metadata": {},
   "outputs": [],
   "source": [
    "#If you notice there are 0 for the year built in some cases so let's drop them as well\n",
    "df = df[df['Year Built'] != 0]"
   ]
  },
  {
   "cell_type": "code",
   "execution_count": 19,
   "id": "1ceea998-6185-4f20-9533-4b3c46064eeb",
   "metadata": {},
   "outputs": [],
   "source": [
    "freq_imp = SimpleImputer(strategy='most_frequent')\n",
    "for col in ['Manufacturer', 'Type', 'Material']:\n",
    "    df[[col]] = freq_imp.fit_transform(df[[col]])"
   ]
  },
  {
   "cell_type": "markdown",
   "id": "11a57677-0dce-43a5-989a-6265ea7a95e2",
   "metadata": {},
   "source": [
    "Let us take a look at the data now"
   ]
  },
  {
   "cell_type": "code",
   "execution_count": 20,
   "id": "4ba48cf5-1eae-403d-823f-f54bac4d1a63",
   "metadata": {},
   "outputs": [
    {
     "name": "stdout",
     "output_type": "stream",
     "text": [
      "<class 'pandas.core.frame.DataFrame'>\n",
      "Int64Index: 9337 entries, 0 to 9887\n",
      "Data columns (total 10 columns):\n",
      " #   Column        Non-Null Count  Dtype  \n",
      "---  ------        --------------  -----  \n",
      " 0   Price         9337 non-null   int64  \n",
      " 1   Boat Type     9337 non-null   object \n",
      " 2   Manufacturer  9337 non-null   object \n",
      " 3   Type          9337 non-null   object \n",
      " 4   Year Built    9337 non-null   int64  \n",
      " 5   Length        9337 non-null   float64\n",
      " 6   Width         9337 non-null   float64\n",
      " 7   Material      9337 non-null   object \n",
      " 8   views         9337 non-null   int64  \n",
      " 9   Currency      9337 non-null   object \n",
      "dtypes: float64(2), int64(3), object(5)\n",
      "memory usage: 802.4+ KB\n"
     ]
    }
   ],
   "source": [
    "df.info()"
   ]
  },
  {
   "cell_type": "markdown",
   "id": "066cd405-eb9a-49e2-9244-8ffcd7a0e230",
   "metadata": {},
   "source": [
    "#### Label Encoding the categorical variables"
   ]
  },
  {
   "cell_type": "code",
   "execution_count": 21,
   "id": "48ec4976-d89b-4a3e-a976-112df530180d",
   "metadata": {},
   "outputs": [],
   "source": [
    "le = LabelEncoder()\n",
    "for col in ['Boat Type', 'Manufacturer', 'Type', 'Material', 'Currency']:\n",
    "    df[[col]] = le.fit_transform(df[[col]])"
   ]
  },
  {
   "cell_type": "code",
   "execution_count": 22,
   "id": "a477ea83-30f3-4f9a-ac1e-55264b501699",
   "metadata": {},
   "outputs": [
    {
     "data": {
      "application/com.datacamp.data-table.v1+json": {
       "is_truncated": false,
       "table": {
        "data": [
         {
          "Boat Type": 95,
          "Currency": 0,
          "Length": 4,
          "Manufacturer": 640,
          "Material": 2,
          "Price": 3337,
          "Type": 15,
          "Width": 1.9,
          "Year Built": 2017,
          "index": 0,
          "views": 226
         },
         {
          "Boat Type": 38,
          "Currency": 2,
          "Length": 4,
          "Manufacturer": 778,
          "Material": 9,
          "Price": 3490,
          "Type": 15,
          "Width": 1.5,
          "Year Built": 2020,
          "index": 1,
          "views": 75
         },
         {
          "Boat Type": 115,
          "Currency": 1,
          "Length": 3,
          "Manufacturer": 594,
          "Material": 2,
          "Price": 25900,
          "Type": 15,
          "Width": 1,
          "Year Built": 2020,
          "index": 3,
          "views": 64
         },
         {
          "Boat Type": 72,
          "Currency": 2,
          "Length": 3.55,
          "Manufacturer": 445,
          "Material": 0,
          "Price": 3399,
          "Type": 15,
          "Width": 1.46,
          "Year Built": 2019,
          "index": 4,
          "views": 58
         },
         {
          "Boat Type": 37,
          "Currency": 0,
          "Length": 6.2,
          "Manufacturer": 154,
          "Material": 0,
          "Price": 3600,
          "Type": 14,
          "Width": 2.38,
          "Year Built": 1999,
          "index": 6,
          "views": 474
         }
        ],
        "schema": {
         "fields": [
          {
           "name": "index",
           "type": "integer"
          },
          {
           "name": "Price",
           "type": "integer"
          },
          {
           "name": "Boat Type",
           "type": "integer"
          },
          {
           "name": "Manufacturer",
           "type": "integer"
          },
          {
           "name": "Type",
           "type": "integer"
          },
          {
           "name": "Year Built",
           "type": "integer"
          },
          {
           "name": "Length",
           "type": "number"
          },
          {
           "name": "Width",
           "type": "number"
          },
          {
           "name": "Material",
           "type": "integer"
          },
          {
           "name": "views",
           "type": "integer"
          },
          {
           "name": "Currency",
           "type": "integer"
          }
         ],
         "pandas_version": "0.20.0",
         "primaryKey": [
          "index"
         ]
        }
       },
       "total_rows": 5
      },
      "text/html": [
       "<div>\n",
       "<style scoped>\n",
       "    .dataframe tbody tr th:only-of-type {\n",
       "        vertical-align: middle;\n",
       "    }\n",
       "\n",
       "    .dataframe tbody tr th {\n",
       "        vertical-align: top;\n",
       "    }\n",
       "\n",
       "    .dataframe thead th {\n",
       "        text-align: right;\n",
       "    }\n",
       "</style>\n",
       "<table border=\"1\" class=\"dataframe\">\n",
       "  <thead>\n",
       "    <tr style=\"text-align: right;\">\n",
       "      <th></th>\n",
       "      <th>Price</th>\n",
       "      <th>Boat Type</th>\n",
       "      <th>Manufacturer</th>\n",
       "      <th>Type</th>\n",
       "      <th>Year Built</th>\n",
       "      <th>Length</th>\n",
       "      <th>Width</th>\n",
       "      <th>Material</th>\n",
       "      <th>views</th>\n",
       "      <th>Currency</th>\n",
       "    </tr>\n",
       "  </thead>\n",
       "  <tbody>\n",
       "    <tr>\n",
       "      <th>0</th>\n",
       "      <td>3337</td>\n",
       "      <td>95</td>\n",
       "      <td>640</td>\n",
       "      <td>15</td>\n",
       "      <td>2017</td>\n",
       "      <td>4.00</td>\n",
       "      <td>1.90</td>\n",
       "      <td>2</td>\n",
       "      <td>226</td>\n",
       "      <td>0</td>\n",
       "    </tr>\n",
       "    <tr>\n",
       "      <th>1</th>\n",
       "      <td>3490</td>\n",
       "      <td>38</td>\n",
       "      <td>778</td>\n",
       "      <td>15</td>\n",
       "      <td>2020</td>\n",
       "      <td>4.00</td>\n",
       "      <td>1.50</td>\n",
       "      <td>9</td>\n",
       "      <td>75</td>\n",
       "      <td>2</td>\n",
       "    </tr>\n",
       "    <tr>\n",
       "      <th>3</th>\n",
       "      <td>25900</td>\n",
       "      <td>115</td>\n",
       "      <td>594</td>\n",
       "      <td>15</td>\n",
       "      <td>2020</td>\n",
       "      <td>3.00</td>\n",
       "      <td>1.00</td>\n",
       "      <td>2</td>\n",
       "      <td>64</td>\n",
       "      <td>1</td>\n",
       "    </tr>\n",
       "    <tr>\n",
       "      <th>4</th>\n",
       "      <td>3399</td>\n",
       "      <td>72</td>\n",
       "      <td>445</td>\n",
       "      <td>15</td>\n",
       "      <td>2019</td>\n",
       "      <td>3.55</td>\n",
       "      <td>1.46</td>\n",
       "      <td>0</td>\n",
       "      <td>58</td>\n",
       "      <td>2</td>\n",
       "    </tr>\n",
       "    <tr>\n",
       "      <th>6</th>\n",
       "      <td>3600</td>\n",
       "      <td>37</td>\n",
       "      <td>154</td>\n",
       "      <td>14</td>\n",
       "      <td>1999</td>\n",
       "      <td>6.20</td>\n",
       "      <td>2.38</td>\n",
       "      <td>0</td>\n",
       "      <td>474</td>\n",
       "      <td>0</td>\n",
       "    </tr>\n",
       "  </tbody>\n",
       "</table>\n",
       "</div>"
      ],
      "text/plain": [
       "   Price  Boat Type  Manufacturer  Type  Year Built  Length  Width  Material  \\\n",
       "0   3337         95           640    15        2017    4.00   1.90         2   \n",
       "1   3490         38           778    15        2020    4.00   1.50         9   \n",
       "3  25900        115           594    15        2020    3.00   1.00         2   \n",
       "4   3399         72           445    15        2019    3.55   1.46         0   \n",
       "6   3600         37           154    14        1999    6.20   2.38         0   \n",
       "\n",
       "   views  Currency  \n",
       "0    226         0  \n",
       "1     75         2  \n",
       "3     64         1  \n",
       "4     58         2  \n",
       "6    474         0  "
      ]
     },
     "execution_count": 22,
     "metadata": {},
     "output_type": "execute_result"
    }
   ],
   "source": [
    "df.head()"
   ]
  },
  {
   "cell_type": "code",
   "execution_count": 23,
   "id": "364a61fa-06b8-480a-ba9c-9f6e209ed385",
   "metadata": {},
   "outputs": [
    {
     "data": {
      "text/plain": [
       "(9337, 10)"
      ]
     },
     "execution_count": 23,
     "metadata": {},
     "output_type": "execute_result"
    }
   ],
   "source": [
    "df.shape"
   ]
  },
  {
   "cell_type": "markdown",
   "id": "6ddcc47e-e743-4142-9bd7-4992ee1e8c29",
   "metadata": {},
   "source": [
    "Now that we encoded the data let's split it into training and testing data."
   ]
  },
  {
   "cell_type": "markdown",
   "id": "4e6678a6-bee9-448a-9ce1-39c30c98cc75",
   "metadata": {},
   "source": [
    "### Creating the train and test set"
   ]
  },
  {
   "cell_type": "code",
   "execution_count": 24,
   "id": "1e75ac2f-5e00-40f2-bc33-80b3b816af59",
   "metadata": {},
   "outputs": [],
   "source": [
    "X = df.drop(['Price'], axis=1)\n",
    "y = df['Price']"
   ]
  },
  {
   "cell_type": "code",
   "execution_count": 25,
   "id": "e0060775-ec59-40ff-b670-a92a50a603d0",
   "metadata": {},
   "outputs": [],
   "source": [
    "X_train, X_test, y_train, y_test = train_test_split(X, y, test_size=0.2, random_state=42)"
   ]
  },
  {
   "cell_type": "code",
   "execution_count": 26,
   "id": "d78f77e1-f95a-4594-9b32-be5c8cc89454",
   "metadata": {},
   "outputs": [
    {
     "data": {
      "text/plain": [
       "(7469, 9)"
      ]
     },
     "execution_count": 26,
     "metadata": {},
     "output_type": "execute_result"
    }
   ],
   "source": [
    "X_train.shape"
   ]
  },
  {
   "cell_type": "code",
   "execution_count": 27,
   "id": "ece407ee-bf70-421f-826e-be8a17cca8a5",
   "metadata": {},
   "outputs": [
    {
     "data": {
      "text/plain": [
       "(7469,)"
      ]
     },
     "execution_count": 27,
     "metadata": {},
     "output_type": "execute_result"
    }
   ],
   "source": [
    "y_train.shape"
   ]
  },
  {
   "cell_type": "code",
   "execution_count": 28,
   "id": "1dceb2f3-fbdf-4670-843e-ffaa5b1281e8",
   "metadata": {},
   "outputs": [
    {
     "data": {
      "text/plain": [
       "(1868, 9)"
      ]
     },
     "execution_count": 28,
     "metadata": {},
     "output_type": "execute_result"
    }
   ],
   "source": [
    "X_test.shape"
   ]
  },
  {
   "cell_type": "code",
   "execution_count": 29,
   "id": "68a17993-f38f-4eb7-9280-3a0aba28acee",
   "metadata": {},
   "outputs": [
    {
     "data": {
      "text/plain": [
       "(1868,)"
      ]
     },
     "execution_count": 29,
     "metadata": {},
     "output_type": "execute_result"
    }
   ],
   "source": [
    "y_test.shape"
   ]
  },
  {
   "cell_type": "markdown",
   "id": "e00233a1-ed3d-49f6-8f63-7ce838f1faa1",
   "metadata": {},
   "source": [
    "## Modelling"
   ]
  },
  {
   "cell_type": "code",
   "execution_count": 44,
   "id": "76e4513e-b0a5-4091-9b09-eb8914d967be",
   "metadata": {},
   "outputs": [
    {
     "name": "stdout",
     "output_type": "stream",
     "text": [
      "Fitting 5 folds for each of 10 candidates, totalling 50 fits\n"
     ]
    },
    {
     "data": {
      "text/plain": [
       "RandomizedSearchCV(cv=5, estimator=RandomForestRegressor(random_state=42),\n",
       "                   n_jobs=-1,\n",
       "                   param_distributions=[{'max_depth': [3, 4, 6, 8, 10, 12],\n",
       "                                         'max_leaf_nodes': [15, 20, 25, 30],\n",
       "                                         'n_estimators': [100, 200, 300, 400,\n",
       "                                                          450, 500]}],\n",
       "                   verbose=1)"
      ]
     },
     "execution_count": 44,
     "metadata": {},
     "output_type": "execute_result"
    }
   ],
   "source": [
    "#Let's use RandomForestRegressor and RandomizedSearchCV\n",
    "\n",
    "param = [\n",
    "    {'n_estimators': [100, 200, 300, 400, 450, 500], \n",
    "     'max_depth': [3, 4, 6, 8, 10, 12,], \n",
    "     'max_leaf_nodes': [15, 20, 25,30]}, \n",
    "]\n",
    "\n",
    "rf = RandomForestRegressor(random_state=42)\n",
    "rs_rf = RandomizedSearchCV(rf, param, cv = 5, n_jobs = -1, verbose = 1)\n",
    "rs_rf.fit(X_train, y_train)"
   ]
  },
  {
   "cell_type": "code",
   "execution_count": 45,
   "id": "e1f99147-0dbe-4eda-bf7c-43df1f1e168e",
   "metadata": {
    "tags": []
   },
   "outputs": [
    {
     "data": {
      "text/plain": [
       "RandomForestRegressor(max_depth=8, max_leaf_nodes=30, n_estimators=450,\n",
       "                      random_state=42)"
      ]
     },
     "execution_count": 45,
     "metadata": {},
     "output_type": "execute_result"
    }
   ],
   "source": [
    "rf_best = rs_rf.best_estimator_\n",
    "rf_best"
   ]
  },
  {
   "cell_type": "markdown",
   "id": "ad5c2e55-5bcd-415b-92d9-a4afe98ff0fb",
   "metadata": {},
   "source": [
    "## Evaluating"
   ]
  },
  {
   "cell_type": "code",
   "execution_count": 46,
   "id": "ce7d8020-bd49-41eb-b108-09d167a61a38",
   "metadata": {},
   "outputs": [
    {
     "data": {
      "text/plain": [
       "0.7810895373640719"
      ]
     },
     "execution_count": 46,
     "metadata": {},
     "output_type": "execute_result"
    }
   ],
   "source": [
    "rs_rf.score(X_test, y_test)"
   ]
  },
  {
   "cell_type": "code",
   "execution_count": 47,
   "id": "785d1564-ba11-4ab6-a803-9202f64d299b",
   "metadata": {},
   "outputs": [],
   "source": [
    "y_pred = rs_rf.predict(X_test)"
   ]
  },
  {
   "cell_type": "code",
   "execution_count": 53,
   "id": "6f0173dd-07d9-48f6-bdea-16d48ad8a21b",
   "metadata": {},
   "outputs": [
    {
     "name": "stdout",
     "output_type": "stream",
     "text": [
      "0.7810895373640719\n"
     ]
    }
   ],
   "source": [
    "print(r2_score(y_test,y_pred))"
   ]
  },
  {
   "cell_type": "markdown",
   "id": "fce8154a-4611-429d-b392-bb3166bedfc8",
   "metadata": {},
   "source": [
    "Our model is able to tell 78% of the data"
   ]
  },
  {
   "cell_type": "code",
   "execution_count": null,
   "id": "b477e900-f7ca-4be8-bce8-0e3e5f5ebfdc",
   "metadata": {},
   "outputs": [],
   "source": []
  }
 ],
 "metadata": {
  "colab": {
   "name": "Welcome to DataCamp Workspaces.ipynb",
   "provenance": []
  },
  "kernelspec": {
   "display_name": "Python 3 (ipykernel)",
   "language": "python",
   "name": "python3"
  },
  "language_info": {
   "codemirror_mode": {
    "name": "ipython",
    "version": 3
   },
   "file_extension": ".py",
   "mimetype": "text/x-python",
   "name": "python",
   "nbconvert_exporter": "python",
   "pygments_lexer": "ipython3",
   "version": "3.8.10"
  }
 },
 "nbformat": 4,
 "nbformat_minor": 5
}
